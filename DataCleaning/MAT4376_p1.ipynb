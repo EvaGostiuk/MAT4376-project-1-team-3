{
  "nbformat": 4,
  "nbformat_minor": 0,
  "metadata": {
    "colab": {
      "provenance": []
    },
    "kernelspec": {
      "name": "python3",
      "display_name": "Python 3"
    },
    "language_info": {
      "name": "python"
    }
  },
  "cells": [
    {
      "cell_type": "code",
      "source": [
        "pip install jenkspy"
      ],
      "metadata": {
        "colab": {
          "base_uri": "https://localhost:8080/"
        },
        "id": "64TNCY42OB5j",
        "outputId": "061c2103-bb76-43b6-ed6f-ba450724df5a"
      },
      "execution_count": 1,
      "outputs": [
        {
          "output_type": "stream",
          "name": "stdout",
          "text": [
            "Looking in indexes: https://pypi.org/simple, https://us-python.pkg.dev/colab-wheels/public/simple/\n",
            "Collecting jenkspy\n",
            "  Downloading jenkspy-0.3.2-cp310-cp310-manylinux_2_17_x86_64.manylinux2014_x86_64.whl (523 kB)\n",
            "\u001b[2K     \u001b[90m━━━━━━━━━━━━━━━━━━━━━━━━━━━━━━━━━━━━━━\u001b[0m \u001b[32m523.1/523.1 kB\u001b[0m \u001b[31m24.1 MB/s\u001b[0m eta \u001b[36m0:00:00\u001b[0m\n",
            "\u001b[?25hRequirement already satisfied: numpy in /usr/local/lib/python3.10/dist-packages (from jenkspy) (1.22.4)\n",
            "Installing collected packages: jenkspy\n",
            "Successfully installed jenkspy-0.3.2\n"
          ]
        }
      ]
    },
    {
      "cell_type": "code",
      "execution_count": 2,
      "metadata": {
        "id": "I1TJWU9VPLG0"
      },
      "outputs": [],
      "source": [
        "import numpy as np # linear algebra\n",
        "import pandas as pd # data processing, CSV file I/O (e.g. pd.read_csv)\n",
        "\n",
        "from sklearn.preprocessing import MinMaxScaler\n",
        "import jenkspy\n",
        "\n",
        "import seaborn as sns\n",
        "import matplotlib.pylab as plt\n",
        "import copy"
      ]
    },
    {
      "cell_type": "code",
      "source": [
        "df = pd.read_csv('polls_us_election_2016.csv')\n",
        "df_clean = copy.deepcopy(df)\n",
        "df"
      ],
      "metadata": {
        "colab": {
          "base_uri": "https://localhost:8080/",
          "height": 713
        },
        "id": "RcOgLzXaPeTM",
        "outputId": "671197d7-1bc5-4566-ba66-2e20ea262b6c"
      },
      "execution_count": 3,
      "outputs": [
        {
          "output_type": "execute_result",
          "data": {
            "text/plain": [
              "          state   startdate     enddate                  pollster grade  \\\n",
              "0          U.S.  2016-11-03  2016-11-06  ABC News/Washington Post    A+   \n",
              "1          U.S.  2016-11-01  2016-11-07   Google Consumer Surveys     B   \n",
              "2          U.S.  2016-11-02  2016-11-06                     Ipsos    A-   \n",
              "3          U.S.  2016-11-04  2016-11-07                    YouGov     B   \n",
              "4          U.S.  2016-11-03  2016-11-06          Gravis Marketing    B-   \n",
              "...         ...         ...         ...                       ...   ...   \n",
              "4203   Virginia  2016-09-16  2016-09-22                     Ipsos    A-   \n",
              "4204  Wisconsin  2016-08-04  2016-08-07      Marquette University     A   \n",
              "4205       Utah  2016-11-01  2016-11-07   Google Consumer Surveys     B   \n",
              "4206     Oregon  2016-10-21  2016-11-02                     Ipsos    A-   \n",
              "4207   Michigan  2016-01-23  2016-01-26                  EPIC-MRA    A-   \n",
              "\n",
              "      samplesize population  rawpoll_clinton  rawpoll_trump  rawpoll_johnson  \\\n",
              "0         2220.0         lv            47.00          43.00             4.00   \n",
              "1        26574.0         lv            38.03          35.69             5.46   \n",
              "2         2195.0         lv            42.00          39.00             6.00   \n",
              "3         3677.0         lv            45.00          41.00             5.00   \n",
              "4        16639.0         rv            47.00          43.00             3.00   \n",
              "...          ...        ...              ...            ...              ...   \n",
              "4203       452.0         lv            46.54          40.04              NaN   \n",
              "4204       683.0         lv            47.00          34.00             9.00   \n",
              "4205       286.0         lv            21.33          35.05             9.99   \n",
              "4206       446.0         lv            46.46          37.41              NaN   \n",
              "4207       600.0         lv            43.00          41.00              NaN   \n",
              "\n",
              "      rawpoll_mcmullin  adjpoll_clinton  adjpoll_trump  adjpoll_johnson  \\\n",
              "0                  NaN         45.20163       41.72430         4.626221   \n",
              "1                  NaN         43.34557       41.21439         5.175792   \n",
              "2                  NaN         42.02638       38.81620         6.844734   \n",
              "3                  NaN         45.65676       40.92004         6.069454   \n",
              "4                  NaN         46.84089       42.33184         3.726098   \n",
              "...                ...              ...            ...              ...   \n",
              "4203               NaN         46.47852       40.48017              NaN   \n",
              "4204               NaN         48.74781       39.07778         4.705020   \n",
              "4205               NaN         26.65200       40.57738         9.705791   \n",
              "4206               NaN         45.12949       37.10720              NaN   \n",
              "4207               NaN         42.14966       42.05508              NaN   \n",
              "\n",
              "      adjpoll_mcmullin  \n",
              "0                  NaN  \n",
              "1                  NaN  \n",
              "2                  NaN  \n",
              "3                  NaN  \n",
              "4                  NaN  \n",
              "...                ...  \n",
              "4203               NaN  \n",
              "4204               NaN  \n",
              "4205               NaN  \n",
              "4206               NaN  \n",
              "4207               NaN  \n",
              "\n",
              "[4208 rows x 15 columns]"
            ],
            "text/html": [
              "\n",
              "  <div id=\"df-e6d4fbb0-0713-4154-b478-e6a84f8753e2\">\n",
              "    <div class=\"colab-df-container\">\n",
              "      <div>\n",
              "<style scoped>\n",
              "    .dataframe tbody tr th:only-of-type {\n",
              "        vertical-align: middle;\n",
              "    }\n",
              "\n",
              "    .dataframe tbody tr th {\n",
              "        vertical-align: top;\n",
              "    }\n",
              "\n",
              "    .dataframe thead th {\n",
              "        text-align: right;\n",
              "    }\n",
              "</style>\n",
              "<table border=\"1\" class=\"dataframe\">\n",
              "  <thead>\n",
              "    <tr style=\"text-align: right;\">\n",
              "      <th></th>\n",
              "      <th>state</th>\n",
              "      <th>startdate</th>\n",
              "      <th>enddate</th>\n",
              "      <th>pollster</th>\n",
              "      <th>grade</th>\n",
              "      <th>samplesize</th>\n",
              "      <th>population</th>\n",
              "      <th>rawpoll_clinton</th>\n",
              "      <th>rawpoll_trump</th>\n",
              "      <th>rawpoll_johnson</th>\n",
              "      <th>rawpoll_mcmullin</th>\n",
              "      <th>adjpoll_clinton</th>\n",
              "      <th>adjpoll_trump</th>\n",
              "      <th>adjpoll_johnson</th>\n",
              "      <th>adjpoll_mcmullin</th>\n",
              "    </tr>\n",
              "  </thead>\n",
              "  <tbody>\n",
              "    <tr>\n",
              "      <th>0</th>\n",
              "      <td>U.S.</td>\n",
              "      <td>2016-11-03</td>\n",
              "      <td>2016-11-06</td>\n",
              "      <td>ABC News/Washington Post</td>\n",
              "      <td>A+</td>\n",
              "      <td>2220.0</td>\n",
              "      <td>lv</td>\n",
              "      <td>47.00</td>\n",
              "      <td>43.00</td>\n",
              "      <td>4.00</td>\n",
              "      <td>NaN</td>\n",
              "      <td>45.20163</td>\n",
              "      <td>41.72430</td>\n",
              "      <td>4.626221</td>\n",
              "      <td>NaN</td>\n",
              "    </tr>\n",
              "    <tr>\n",
              "      <th>1</th>\n",
              "      <td>U.S.</td>\n",
              "      <td>2016-11-01</td>\n",
              "      <td>2016-11-07</td>\n",
              "      <td>Google Consumer Surveys</td>\n",
              "      <td>B</td>\n",
              "      <td>26574.0</td>\n",
              "      <td>lv</td>\n",
              "      <td>38.03</td>\n",
              "      <td>35.69</td>\n",
              "      <td>5.46</td>\n",
              "      <td>NaN</td>\n",
              "      <td>43.34557</td>\n",
              "      <td>41.21439</td>\n",
              "      <td>5.175792</td>\n",
              "      <td>NaN</td>\n",
              "    </tr>\n",
              "    <tr>\n",
              "      <th>2</th>\n",
              "      <td>U.S.</td>\n",
              "      <td>2016-11-02</td>\n",
              "      <td>2016-11-06</td>\n",
              "      <td>Ipsos</td>\n",
              "      <td>A-</td>\n",
              "      <td>2195.0</td>\n",
              "      <td>lv</td>\n",
              "      <td>42.00</td>\n",
              "      <td>39.00</td>\n",
              "      <td>6.00</td>\n",
              "      <td>NaN</td>\n",
              "      <td>42.02638</td>\n",
              "      <td>38.81620</td>\n",
              "      <td>6.844734</td>\n",
              "      <td>NaN</td>\n",
              "    </tr>\n",
              "    <tr>\n",
              "      <th>3</th>\n",
              "      <td>U.S.</td>\n",
              "      <td>2016-11-04</td>\n",
              "      <td>2016-11-07</td>\n",
              "      <td>YouGov</td>\n",
              "      <td>B</td>\n",
              "      <td>3677.0</td>\n",
              "      <td>lv</td>\n",
              "      <td>45.00</td>\n",
              "      <td>41.00</td>\n",
              "      <td>5.00</td>\n",
              "      <td>NaN</td>\n",
              "      <td>45.65676</td>\n",
              "      <td>40.92004</td>\n",
              "      <td>6.069454</td>\n",
              "      <td>NaN</td>\n",
              "    </tr>\n",
              "    <tr>\n",
              "      <th>4</th>\n",
              "      <td>U.S.</td>\n",
              "      <td>2016-11-03</td>\n",
              "      <td>2016-11-06</td>\n",
              "      <td>Gravis Marketing</td>\n",
              "      <td>B-</td>\n",
              "      <td>16639.0</td>\n",
              "      <td>rv</td>\n",
              "      <td>47.00</td>\n",
              "      <td>43.00</td>\n",
              "      <td>3.00</td>\n",
              "      <td>NaN</td>\n",
              "      <td>46.84089</td>\n",
              "      <td>42.33184</td>\n",
              "      <td>3.726098</td>\n",
              "      <td>NaN</td>\n",
              "    </tr>\n",
              "    <tr>\n",
              "      <th>...</th>\n",
              "      <td>...</td>\n",
              "      <td>...</td>\n",
              "      <td>...</td>\n",
              "      <td>...</td>\n",
              "      <td>...</td>\n",
              "      <td>...</td>\n",
              "      <td>...</td>\n",
              "      <td>...</td>\n",
              "      <td>...</td>\n",
              "      <td>...</td>\n",
              "      <td>...</td>\n",
              "      <td>...</td>\n",
              "      <td>...</td>\n",
              "      <td>...</td>\n",
              "      <td>...</td>\n",
              "    </tr>\n",
              "    <tr>\n",
              "      <th>4203</th>\n",
              "      <td>Virginia</td>\n",
              "      <td>2016-09-16</td>\n",
              "      <td>2016-09-22</td>\n",
              "      <td>Ipsos</td>\n",
              "      <td>A-</td>\n",
              "      <td>452.0</td>\n",
              "      <td>lv</td>\n",
              "      <td>46.54</td>\n",
              "      <td>40.04</td>\n",
              "      <td>NaN</td>\n",
              "      <td>NaN</td>\n",
              "      <td>46.47852</td>\n",
              "      <td>40.48017</td>\n",
              "      <td>NaN</td>\n",
              "      <td>NaN</td>\n",
              "    </tr>\n",
              "    <tr>\n",
              "      <th>4204</th>\n",
              "      <td>Wisconsin</td>\n",
              "      <td>2016-08-04</td>\n",
              "      <td>2016-08-07</td>\n",
              "      <td>Marquette University</td>\n",
              "      <td>A</td>\n",
              "      <td>683.0</td>\n",
              "      <td>lv</td>\n",
              "      <td>47.00</td>\n",
              "      <td>34.00</td>\n",
              "      <td>9.00</td>\n",
              "      <td>NaN</td>\n",
              "      <td>48.74781</td>\n",
              "      <td>39.07778</td>\n",
              "      <td>4.705020</td>\n",
              "      <td>NaN</td>\n",
              "    </tr>\n",
              "    <tr>\n",
              "      <th>4205</th>\n",
              "      <td>Utah</td>\n",
              "      <td>2016-11-01</td>\n",
              "      <td>2016-11-07</td>\n",
              "      <td>Google Consumer Surveys</td>\n",
              "      <td>B</td>\n",
              "      <td>286.0</td>\n",
              "      <td>lv</td>\n",
              "      <td>21.33</td>\n",
              "      <td>35.05</td>\n",
              "      <td>9.99</td>\n",
              "      <td>NaN</td>\n",
              "      <td>26.65200</td>\n",
              "      <td>40.57738</td>\n",
              "      <td>9.705791</td>\n",
              "      <td>NaN</td>\n",
              "    </tr>\n",
              "    <tr>\n",
              "      <th>4206</th>\n",
              "      <td>Oregon</td>\n",
              "      <td>2016-10-21</td>\n",
              "      <td>2016-11-02</td>\n",
              "      <td>Ipsos</td>\n",
              "      <td>A-</td>\n",
              "      <td>446.0</td>\n",
              "      <td>lv</td>\n",
              "      <td>46.46</td>\n",
              "      <td>37.41</td>\n",
              "      <td>NaN</td>\n",
              "      <td>NaN</td>\n",
              "      <td>45.12949</td>\n",
              "      <td>37.10720</td>\n",
              "      <td>NaN</td>\n",
              "      <td>NaN</td>\n",
              "    </tr>\n",
              "    <tr>\n",
              "      <th>4207</th>\n",
              "      <td>Michigan</td>\n",
              "      <td>2016-01-23</td>\n",
              "      <td>2016-01-26</td>\n",
              "      <td>EPIC-MRA</td>\n",
              "      <td>A-</td>\n",
              "      <td>600.0</td>\n",
              "      <td>lv</td>\n",
              "      <td>43.00</td>\n",
              "      <td>41.00</td>\n",
              "      <td>NaN</td>\n",
              "      <td>NaN</td>\n",
              "      <td>42.14966</td>\n",
              "      <td>42.05508</td>\n",
              "      <td>NaN</td>\n",
              "      <td>NaN</td>\n",
              "    </tr>\n",
              "  </tbody>\n",
              "</table>\n",
              "<p>4208 rows × 15 columns</p>\n",
              "</div>\n",
              "      <button class=\"colab-df-convert\" onclick=\"convertToInteractive('df-e6d4fbb0-0713-4154-b478-e6a84f8753e2')\"\n",
              "              title=\"Convert this dataframe to an interactive table.\"\n",
              "              style=\"display:none;\">\n",
              "        \n",
              "  <svg xmlns=\"http://www.w3.org/2000/svg\" height=\"24px\"viewBox=\"0 0 24 24\"\n",
              "       width=\"24px\">\n",
              "    <path d=\"M0 0h24v24H0V0z\" fill=\"none\"/>\n",
              "    <path d=\"M18.56 5.44l.94 2.06.94-2.06 2.06-.94-2.06-.94-.94-2.06-.94 2.06-2.06.94zm-11 1L8.5 8.5l.94-2.06 2.06-.94-2.06-.94L8.5 2.5l-.94 2.06-2.06.94zm10 10l.94 2.06.94-2.06 2.06-.94-2.06-.94-.94-2.06-.94 2.06-2.06.94z\"/><path d=\"M17.41 7.96l-1.37-1.37c-.4-.4-.92-.59-1.43-.59-.52 0-1.04.2-1.43.59L10.3 9.45l-7.72 7.72c-.78.78-.78 2.05 0 2.83L4 21.41c.39.39.9.59 1.41.59.51 0 1.02-.2 1.41-.59l7.78-7.78 2.81-2.81c.8-.78.8-2.07 0-2.86zM5.41 20L4 18.59l7.72-7.72 1.47 1.35L5.41 20z\"/>\n",
              "  </svg>\n",
              "      </button>\n",
              "      \n",
              "  <style>\n",
              "    .colab-df-container {\n",
              "      display:flex;\n",
              "      flex-wrap:wrap;\n",
              "      gap: 12px;\n",
              "    }\n",
              "\n",
              "    .colab-df-convert {\n",
              "      background-color: #E8F0FE;\n",
              "      border: none;\n",
              "      border-radius: 50%;\n",
              "      cursor: pointer;\n",
              "      display: none;\n",
              "      fill: #1967D2;\n",
              "      height: 32px;\n",
              "      padding: 0 0 0 0;\n",
              "      width: 32px;\n",
              "    }\n",
              "\n",
              "    .colab-df-convert:hover {\n",
              "      background-color: #E2EBFA;\n",
              "      box-shadow: 0px 1px 2px rgba(60, 64, 67, 0.3), 0px 1px 3px 1px rgba(60, 64, 67, 0.15);\n",
              "      fill: #174EA6;\n",
              "    }\n",
              "\n",
              "    [theme=dark] .colab-df-convert {\n",
              "      background-color: #3B4455;\n",
              "      fill: #D2E3FC;\n",
              "    }\n",
              "\n",
              "    [theme=dark] .colab-df-convert:hover {\n",
              "      background-color: #434B5C;\n",
              "      box-shadow: 0px 1px 3px 1px rgba(0, 0, 0, 0.15);\n",
              "      filter: drop-shadow(0px 1px 2px rgba(0, 0, 0, 0.3));\n",
              "      fill: #FFFFFF;\n",
              "    }\n",
              "  </style>\n",
              "\n",
              "      <script>\n",
              "        const buttonEl =\n",
              "          document.querySelector('#df-e6d4fbb0-0713-4154-b478-e6a84f8753e2 button.colab-df-convert');\n",
              "        buttonEl.style.display =\n",
              "          google.colab.kernel.accessAllowed ? 'block' : 'none';\n",
              "\n",
              "        async function convertToInteractive(key) {\n",
              "          const element = document.querySelector('#df-e6d4fbb0-0713-4154-b478-e6a84f8753e2');\n",
              "          const dataTable =\n",
              "            await google.colab.kernel.invokeFunction('convertToInteractive',\n",
              "                                                     [key], {});\n",
              "          if (!dataTable) return;\n",
              "\n",
              "          const docLinkHtml = 'Like what you see? Visit the ' +\n",
              "            '<a target=\"_blank\" href=https://colab.research.google.com/notebooks/data_table.ipynb>data table notebook</a>'\n",
              "            + ' to learn more about interactive tables.';\n",
              "          element.innerHTML = '';\n",
              "          dataTable['output_type'] = 'display_data';\n",
              "          await google.colab.output.renderOutput(dataTable, element);\n",
              "          const docLink = document.createElement('div');\n",
              "          docLink.innerHTML = docLinkHtml;\n",
              "          element.appendChild(docLink);\n",
              "        }\n",
              "      </script>\n",
              "    </div>\n",
              "  </div>\n",
              "  "
            ]
          },
          "metadata": {},
          "execution_count": 3
        }
      ]
    },
    {
      "cell_type": "markdown",
      "source": [
        "# Data Cleaning"
      ],
      "metadata": {
        "id": "MZi7PkMBWLwn"
      }
    },
    {
      "cell_type": "code",
      "source": [
        "df_clean = pd.get_dummies(df_clean, columns=['population'], prefix = 'pop_type_')"
      ],
      "metadata": {
        "id": "VIVHW1EGWLcR"
      },
      "execution_count": 4,
      "outputs": []
    },
    {
      "cell_type": "code",
      "source": [
        "df_clean['grade'] = np.where(df_clean['grade'] == \"A+\", 10, df_clean['grade'])\n",
        "df_clean['grade'] = np.where(df_clean['grade'] == \"A\", 9, df_clean['grade'])\n",
        "df_clean['grade'] = np.where(df_clean['grade'] == \"A-\", 8, df_clean['grade'])\n",
        "df_clean['grade'] = np.where(df_clean['grade'] == \"B+\", 7, df_clean['grade'])\n",
        "df_clean['grade'] = np.where(df_clean['grade'] == \"B\", 6, df_clean['grade'])\n",
        "df_clean['grade'] = np.where(df_clean['grade'] == \"B-\", 5, df_clean['grade'])\n",
        "df_clean['grade'] = np.where(df_clean['grade'] == \"C+\", 4, df_clean['grade'])\n",
        "df_clean['grade'] = np.where(df_clean['grade'] == \"C\", 3, df_clean['grade'])\n",
        "df_clean['grade'] = np.where(df_clean['grade'] == \"C-\", 2, df_clean['grade'])\n",
        "df_clean['grade'] = np.where(df_clean['grade'] == \"D\", 1, df_clean['grade'])\n",
        "\n",
        "df_clean['grade'] = np.where(df_clean['grade'].isna(), 4, df_clean['grade'])\n",
        "\n",
        "scaler = MinMaxScaler()\n",
        "df_clean[['grade']] = scaler.fit_transform(df_clean[['grade']])"
      ],
      "metadata": {
        "id": "UE0cylUwcudO"
      },
      "execution_count": 5,
      "outputs": []
    },
    {
      "cell_type": "code",
      "source": [
        "df_clean[\"startdate\"] = df_clean.apply (lambda x: pd.Timestamp(x[\"startdate\"]), axis=1)\n",
        "df_clean[\"enddate\"] = df_clean.apply (lambda x: pd.Timestamp(x[\"enddate\"]), axis=1)"
      ],
      "metadata": {
        "id": "HtjoA4Vjt92X"
      },
      "execution_count": 6,
      "outputs": []
    },
    {
      "cell_type": "code",
      "source": [
        "df_clean.isna().sum()"
      ],
      "metadata": {
        "colab": {
          "base_uri": "https://localhost:8080/"
        },
        "id": "4v_tfkj2v6o-",
        "outputId": "f8d343f2-3dd5-4694-a753-74bdc7fbbbc8"
      },
      "execution_count": 32,
      "outputs": [
        {
          "output_type": "execute_result",
          "data": {
            "text/plain": [
              "state                  0\n",
              "startdate              0\n",
              "enddate                0\n",
              "pollster               0\n",
              "grade                  0\n",
              "samplesize             1\n",
              "rawpoll_clinton        0\n",
              "rawpoll_trump          0\n",
              "rawpoll_johnson     1409\n",
              "rawpoll_mcmullin    4178\n",
              "adjpoll_clinton        0\n",
              "adjpoll_trump          0\n",
              "adjpoll_johnson     1409\n",
              "adjpoll_mcmullin    4178\n",
              "pop_type__a            0\n",
              "pop_type__lv           0\n",
              "pop_type__rv           0\n",
              "pop_type__v            0\n",
              "dtype: int64"
            ]
          },
          "metadata": {},
          "execution_count": 32
        }
      ]
    },
    {
      "cell_type": "code",
      "source": [
        "df_clean.dtypes"
      ],
      "metadata": {
        "colab": {
          "base_uri": "https://localhost:8080/"
        },
        "id": "oegiG63suic9",
        "outputId": "2d19a17d-2755-4116-e2b1-8c5adbaf8903"
      },
      "execution_count": 74,
      "outputs": [
        {
          "output_type": "execute_result",
          "data": {
            "text/plain": [
              "state                       object\n",
              "startdate           datetime64[ns]\n",
              "enddate             datetime64[ns]\n",
              "pollster                    object\n",
              "grade                      float64\n",
              "samplesize                 float64\n",
              "rawpoll_clinton            float64\n",
              "rawpoll_trump              float64\n",
              "rawpoll_johnson            float64\n",
              "rawpoll_mcmullin           float64\n",
              "adjpoll_clinton            float64\n",
              "adjpoll_trump              float64\n",
              "adjpoll_johnson            float64\n",
              "adjpoll_mcmullin           float64\n",
              "pop_type__a                  uint8\n",
              "pop_type__lv                 uint8\n",
              "pop_type__rv                 uint8\n",
              "pop_type__v                  uint8\n",
              "dtype: object"
            ]
          },
          "metadata": {},
          "execution_count": 74
        }
      ]
    },
    {
      "cell_type": "code",
      "source": [
        "df_clean.head()"
      ],
      "metadata": {
        "colab": {
          "base_uri": "https://localhost:8080/",
          "height": 391
        },
        "id": "Dw0zvCiJWvDn",
        "outputId": "c5f183b8-85a1-41eb-bf4e-b872ed95f2cb"
      },
      "execution_count": 28,
      "outputs": [
        {
          "output_type": "execute_result",
          "data": {
            "text/plain": [
              "  state  startdate    enddate                  pollster     grade  samplesize  \\\n",
              "0  U.S. 2016-11-03 2016-11-06  ABC News/Washington Post  1.000000      2239.5   \n",
              "1  U.S. 2016-11-01 2016-11-07   Google Consumer Surveys  0.555556     26749.5   \n",
              "2  U.S. 2016-11-02 2016-11-06                     Ipsos  0.777778      2183.0   \n",
              "3  U.S. 2016-11-04 2016-11-07                    YouGov  0.555556      3690.5   \n",
              "4  U.S. 2016-11-03 2016-11-06          Gravis Marketing  0.444444     16220.0   \n",
              "\n",
              "   rawpoll_clinton  rawpoll_trump  rawpoll_johnson  rawpoll_mcmullin  \\\n",
              "0            47.00          43.00             4.00               NaN   \n",
              "1            38.03          35.69             5.46               NaN   \n",
              "2            42.00          39.00             6.00               NaN   \n",
              "3            45.00          41.00             5.00               NaN   \n",
              "4            47.00          43.00             3.00               NaN   \n",
              "\n",
              "   adjpoll_clinton  adjpoll_trump  adjpoll_johnson  adjpoll_mcmullin  \\\n",
              "0         45.20163       41.72430         4.626221               NaN   \n",
              "1         43.34557       41.21439         5.175792               NaN   \n",
              "2         42.02638       38.81620         6.844734               NaN   \n",
              "3         45.65676       40.92004         6.069454               NaN   \n",
              "4         46.84089       42.33184         3.726098               NaN   \n",
              "\n",
              "   pop_type__a  pop_type__lv  pop_type__rv  pop_type__v  \n",
              "0            0             1             0            0  \n",
              "1            0             1             0            0  \n",
              "2            0             1             0            0  \n",
              "3            0             1             0            0  \n",
              "4            0             0             1            0  "
            ],
            "text/html": [
              "\n",
              "  <div id=\"df-cb0b8744-e3dc-40ae-9f65-e3f5c4bce550\">\n",
              "    <div class=\"colab-df-container\">\n",
              "      <div>\n",
              "<style scoped>\n",
              "    .dataframe tbody tr th:only-of-type {\n",
              "        vertical-align: middle;\n",
              "    }\n",
              "\n",
              "    .dataframe tbody tr th {\n",
              "        vertical-align: top;\n",
              "    }\n",
              "\n",
              "    .dataframe thead th {\n",
              "        text-align: right;\n",
              "    }\n",
              "</style>\n",
              "<table border=\"1\" class=\"dataframe\">\n",
              "  <thead>\n",
              "    <tr style=\"text-align: right;\">\n",
              "      <th></th>\n",
              "      <th>state</th>\n",
              "      <th>startdate</th>\n",
              "      <th>enddate</th>\n",
              "      <th>pollster</th>\n",
              "      <th>grade</th>\n",
              "      <th>samplesize</th>\n",
              "      <th>rawpoll_clinton</th>\n",
              "      <th>rawpoll_trump</th>\n",
              "      <th>rawpoll_johnson</th>\n",
              "      <th>rawpoll_mcmullin</th>\n",
              "      <th>adjpoll_clinton</th>\n",
              "      <th>adjpoll_trump</th>\n",
              "      <th>adjpoll_johnson</th>\n",
              "      <th>adjpoll_mcmullin</th>\n",
              "      <th>pop_type__a</th>\n",
              "      <th>pop_type__lv</th>\n",
              "      <th>pop_type__rv</th>\n",
              "      <th>pop_type__v</th>\n",
              "    </tr>\n",
              "  </thead>\n",
              "  <tbody>\n",
              "    <tr>\n",
              "      <th>0</th>\n",
              "      <td>U.S.</td>\n",
              "      <td>2016-11-03</td>\n",
              "      <td>2016-11-06</td>\n",
              "      <td>ABC News/Washington Post</td>\n",
              "      <td>1.000000</td>\n",
              "      <td>2239.5</td>\n",
              "      <td>47.00</td>\n",
              "      <td>43.00</td>\n",
              "      <td>4.00</td>\n",
              "      <td>NaN</td>\n",
              "      <td>45.20163</td>\n",
              "      <td>41.72430</td>\n",
              "      <td>4.626221</td>\n",
              "      <td>NaN</td>\n",
              "      <td>0</td>\n",
              "      <td>1</td>\n",
              "      <td>0</td>\n",
              "      <td>0</td>\n",
              "    </tr>\n",
              "    <tr>\n",
              "      <th>1</th>\n",
              "      <td>U.S.</td>\n",
              "      <td>2016-11-01</td>\n",
              "      <td>2016-11-07</td>\n",
              "      <td>Google Consumer Surveys</td>\n",
              "      <td>0.555556</td>\n",
              "      <td>26749.5</td>\n",
              "      <td>38.03</td>\n",
              "      <td>35.69</td>\n",
              "      <td>5.46</td>\n",
              "      <td>NaN</td>\n",
              "      <td>43.34557</td>\n",
              "      <td>41.21439</td>\n",
              "      <td>5.175792</td>\n",
              "      <td>NaN</td>\n",
              "      <td>0</td>\n",
              "      <td>1</td>\n",
              "      <td>0</td>\n",
              "      <td>0</td>\n",
              "    </tr>\n",
              "    <tr>\n",
              "      <th>2</th>\n",
              "      <td>U.S.</td>\n",
              "      <td>2016-11-02</td>\n",
              "      <td>2016-11-06</td>\n",
              "      <td>Ipsos</td>\n",
              "      <td>0.777778</td>\n",
              "      <td>2183.0</td>\n",
              "      <td>42.00</td>\n",
              "      <td>39.00</td>\n",
              "      <td>6.00</td>\n",
              "      <td>NaN</td>\n",
              "      <td>42.02638</td>\n",
              "      <td>38.81620</td>\n",
              "      <td>6.844734</td>\n",
              "      <td>NaN</td>\n",
              "      <td>0</td>\n",
              "      <td>1</td>\n",
              "      <td>0</td>\n",
              "      <td>0</td>\n",
              "    </tr>\n",
              "    <tr>\n",
              "      <th>3</th>\n",
              "      <td>U.S.</td>\n",
              "      <td>2016-11-04</td>\n",
              "      <td>2016-11-07</td>\n",
              "      <td>YouGov</td>\n",
              "      <td>0.555556</td>\n",
              "      <td>3690.5</td>\n",
              "      <td>45.00</td>\n",
              "      <td>41.00</td>\n",
              "      <td>5.00</td>\n",
              "      <td>NaN</td>\n",
              "      <td>45.65676</td>\n",
              "      <td>40.92004</td>\n",
              "      <td>6.069454</td>\n",
              "      <td>NaN</td>\n",
              "      <td>0</td>\n",
              "      <td>1</td>\n",
              "      <td>0</td>\n",
              "      <td>0</td>\n",
              "    </tr>\n",
              "    <tr>\n",
              "      <th>4</th>\n",
              "      <td>U.S.</td>\n",
              "      <td>2016-11-03</td>\n",
              "      <td>2016-11-06</td>\n",
              "      <td>Gravis Marketing</td>\n",
              "      <td>0.444444</td>\n",
              "      <td>16220.0</td>\n",
              "      <td>47.00</td>\n",
              "      <td>43.00</td>\n",
              "      <td>3.00</td>\n",
              "      <td>NaN</td>\n",
              "      <td>46.84089</td>\n",
              "      <td>42.33184</td>\n",
              "      <td>3.726098</td>\n",
              "      <td>NaN</td>\n",
              "      <td>0</td>\n",
              "      <td>0</td>\n",
              "      <td>1</td>\n",
              "      <td>0</td>\n",
              "    </tr>\n",
              "  </tbody>\n",
              "</table>\n",
              "</div>\n",
              "      <button class=\"colab-df-convert\" onclick=\"convertToInteractive('df-cb0b8744-e3dc-40ae-9f65-e3f5c4bce550')\"\n",
              "              title=\"Convert this dataframe to an interactive table.\"\n",
              "              style=\"display:none;\">\n",
              "        \n",
              "  <svg xmlns=\"http://www.w3.org/2000/svg\" height=\"24px\"viewBox=\"0 0 24 24\"\n",
              "       width=\"24px\">\n",
              "    <path d=\"M0 0h24v24H0V0z\" fill=\"none\"/>\n",
              "    <path d=\"M18.56 5.44l.94 2.06.94-2.06 2.06-.94-2.06-.94-.94-2.06-.94 2.06-2.06.94zm-11 1L8.5 8.5l.94-2.06 2.06-.94-2.06-.94L8.5 2.5l-.94 2.06-2.06.94zm10 10l.94 2.06.94-2.06 2.06-.94-2.06-.94-.94-2.06-.94 2.06-2.06.94z\"/><path d=\"M17.41 7.96l-1.37-1.37c-.4-.4-.92-.59-1.43-.59-.52 0-1.04.2-1.43.59L10.3 9.45l-7.72 7.72c-.78.78-.78 2.05 0 2.83L4 21.41c.39.39.9.59 1.41.59.51 0 1.02-.2 1.41-.59l7.78-7.78 2.81-2.81c.8-.78.8-2.07 0-2.86zM5.41 20L4 18.59l7.72-7.72 1.47 1.35L5.41 20z\"/>\n",
              "  </svg>\n",
              "      </button>\n",
              "      \n",
              "  <style>\n",
              "    .colab-df-container {\n",
              "      display:flex;\n",
              "      flex-wrap:wrap;\n",
              "      gap: 12px;\n",
              "    }\n",
              "\n",
              "    .colab-df-convert {\n",
              "      background-color: #E8F0FE;\n",
              "      border: none;\n",
              "      border-radius: 50%;\n",
              "      cursor: pointer;\n",
              "      display: none;\n",
              "      fill: #1967D2;\n",
              "      height: 32px;\n",
              "      padding: 0 0 0 0;\n",
              "      width: 32px;\n",
              "    }\n",
              "\n",
              "    .colab-df-convert:hover {\n",
              "      background-color: #E2EBFA;\n",
              "      box-shadow: 0px 1px 2px rgba(60, 64, 67, 0.3), 0px 1px 3px 1px rgba(60, 64, 67, 0.15);\n",
              "      fill: #174EA6;\n",
              "    }\n",
              "\n",
              "    [theme=dark] .colab-df-convert {\n",
              "      background-color: #3B4455;\n",
              "      fill: #D2E3FC;\n",
              "    }\n",
              "\n",
              "    [theme=dark] .colab-df-convert:hover {\n",
              "      background-color: #434B5C;\n",
              "      box-shadow: 0px 1px 3px 1px rgba(0, 0, 0, 0.15);\n",
              "      filter: drop-shadow(0px 1px 2px rgba(0, 0, 0, 0.3));\n",
              "      fill: #FFFFFF;\n",
              "    }\n",
              "  </style>\n",
              "\n",
              "      <script>\n",
              "        const buttonEl =\n",
              "          document.querySelector('#df-cb0b8744-e3dc-40ae-9f65-e3f5c4bce550 button.colab-df-convert');\n",
              "        buttonEl.style.display =\n",
              "          google.colab.kernel.accessAllowed ? 'block' : 'none';\n",
              "\n",
              "        async function convertToInteractive(key) {\n",
              "          const element = document.querySelector('#df-cb0b8744-e3dc-40ae-9f65-e3f5c4bce550');\n",
              "          const dataTable =\n",
              "            await google.colab.kernel.invokeFunction('convertToInteractive',\n",
              "                                                     [key], {});\n",
              "          if (!dataTable) return;\n",
              "\n",
              "          const docLinkHtml = 'Like what you see? Visit the ' +\n",
              "            '<a target=\"_blank\" href=https://colab.research.google.com/notebooks/data_table.ipynb>data table notebook</a>'\n",
              "            + ' to learn more about interactive tables.';\n",
              "          element.innerHTML = '';\n",
              "          dataTable['output_type'] = 'display_data';\n",
              "          await google.colab.output.renderOutput(dataTable, element);\n",
              "          const docLink = document.createElement('div');\n",
              "          docLink.innerHTML = docLinkHtml;\n",
              "          element.appendChild(docLink);\n",
              "        }\n",
              "      </script>\n",
              "    </div>\n",
              "  </div>\n",
              "  "
            ]
          },
          "metadata": {},
          "execution_count": 28
        }
      ]
    },
    {
      "cell_type": "code",
      "source": [
        "df_clean['samplesize'].hist(bins=100)"
      ],
      "metadata": {
        "colab": {
          "base_uri": "https://localhost:8080/",
          "height": 451
        },
        "id": "5YdylKxMR1qL",
        "outputId": "351c7bf5-31c3-4204-9d0a-a3faaaeeaa27"
      },
      "execution_count": 14,
      "outputs": [
        {
          "output_type": "execute_result",
          "data": {
            "text/plain": [
              "<Axes: >"
            ]
          },
          "metadata": {},
          "execution_count": 14
        },
        {
          "output_type": "display_data",
          "data": {
            "text/plain": [
              "<Figure size 640x480 with 1 Axes>"
            ],
            "image/png": "[encoded data removed]"
          },
          "metadata": {}
        }
      ]
    },
    {
      "cell_type": "code",
      "source": [
        "df_clean.loc[(df_clean['samplesize'] <= 5005)]['samplesize'].hist(bins=70)"
      ],
      "metadata": {
        "colab": {
          "base_uri": "https://localhost:8080/",
          "height": 448
        },
        "id": "XE8HYbER-hBM",
        "outputId": "945cfb2f-97b5-4f76-a85c-ebbfb1739cd7"
      },
      "execution_count": 12,
      "outputs": [
        {
          "output_type": "execute_result",
          "data": {
            "text/plain": [
              "<Axes: >"
            ]
          },
          "metadata": {},
          "execution_count": 12
        },
        {
          "output_type": "display_data",
          "data": {
            "text/plain": [
              "<Figure size 640x480 with 1 Axes>"
            ],
            "image/png": "[encoded data removed]"
          },
          "metadata": {}
        }
      ]
    },
    {
      "cell_type": "code",
      "source": [
        "df_clean.loc[(df_clean['samplesize'] > 5005)]['samplesize'].hist(bins=25)\n",
        "# df_clean['samplesize'].hist(bins=1000)"
      ],
      "metadata": {
        "colab": {
          "base_uri": "https://localhost:8080/",
          "height": 448
        },
        "id": "wuHy25jSQFG0",
        "outputId": "9bef3646-6fda-4d09-fbad-2d2078fc5b4c"
      },
      "execution_count": 10,
      "outputs": [
        {
          "output_type": "execute_result",
          "data": {
            "text/plain": [
              "<Axes: >"
            ]
          },
          "metadata": {},
          "execution_count": 10
        },
        {
          "output_type": "display_data",
          "data": {
            "text/plain": [
              "<Figure size 640x480 with 1 Axes>"
            ],
            "image/png": "[encoded data removed]"
          },
          "metadata": {}
        }
      ]
    },
    {
      "cell_type": "code",
      "source": [
        "jnb = jenkspy.JenksNaturalBreaks(75)\n",
        "jnb.fit(df_clean.loc[(df_clean['samplesize'] <= 5005)]['samplesize'])\n",
        "#print(jnb.breaks_)\n",
        "median_list = []\n",
        "group_list = []\n",
        "for group_sample in jnb.groups_:\n",
        "  median_list.append(np.median(group_sample))\n",
        "  group_list.append(np.unique(group_sample))\n",
        "  #print(len(group_sample), np.median(group_sample),\"\\t\", np.median(group_sample)-np.min(group_sample), np.max(group_sample)-np.median(group_sample))\n",
        "\n",
        "jnb2 = jenkspy.JenksNaturalBreaks(25)\n",
        "jnb2.fit(df_clean.loc[(df_clean['samplesize'] > 5005)]['samplesize'])\n",
        "#print(jnb2.breaks_)\n",
        "for group_sample in jnb2.groups_:\n",
        "  median_list.append(np.median(group_sample))\n",
        "  group_list.append(np.unique(group_sample))\n",
        "  #print(len(group_sample), np.median(group_sample),\"\\t\", np.median(group_sample)-np.min(group_sample), np.max(group_sample)-np.median(group_sample))"
      ],
      "metadata": {
        "id": "TQOmDDjoNLol"
      },
      "execution_count": null,
      "outputs": []
    },
    {
      "cell_type": "code",
      "source": [
        "def samplesize_smooth(x):\n",
        "  for i in range(100):\n",
        "    if x in group_list[i]:\n",
        "      return median_list[i]"
      ],
      "metadata": {
        "id": "qWOg_gQ6ThlB"
      },
      "execution_count": 26,
      "outputs": []
    },
    {
      "cell_type": "code",
      "source": [
        "df_clean[\"samplesize\"] = df_clean.apply (lambda x: samplesize_smooth(x[\"samplesize\"]), axis=1)"
      ],
      "metadata": {
        "id": "Op8y3kOVVTYL"
      },
      "execution_count": 27,
      "outputs": []
    },
    {
      "cell_type": "code",
      "source": [
        "df_clean[df_clean['samplesize'].isna()]"
      ],
      "metadata": {
        "colab": {
          "base_uri": "https://localhost:8080/",
          "height": 113
        },
        "id": "VeEhf12QU2Uh",
        "outputId": "e6baeeb6-806b-4801-d2c0-18c4ebe13ca0"
      },
      "execution_count": 49,
      "outputs": [
        {
          "output_type": "execute_result",
          "data": {
            "text/plain": [
              "Empty DataFrame\n",
              "Columns: [state, startdate, enddate, pollster, grade, samplesize, rawpoll_clinton, rawpoll_trump, rawpoll_johnson, rawpoll_mcmullin, adjpoll_clinton, adjpoll_trump, adjpoll_johnson, adjpoll_mcmullin, pop_type__a, pop_type__lv, pop_type__rv, pop_type__v]\n",
              "Index: []"
            ],
            "text/html": [
              "\n",
              "  <div id=\"df-198e1258-14c5-479e-9451-7876f461d75f\">\n",
              "    <div class=\"colab-df-container\">\n",
              "      <div>\n",
              "<style scoped>\n",
              "    .dataframe tbody tr th:only-of-type {\n",
              "        vertical-align: middle;\n",
              "    }\n",
              "\n",
              "    .dataframe tbody tr th {\n",
              "        vertical-align: top;\n",
              "    }\n",
              "\n",
              "    .dataframe thead th {\n",
              "        text-align: right;\n",
              "    }\n",
              "</style>\n",
              "<table border=\"1\" class=\"dataframe\">\n",
              "  <thead>\n",
              "    <tr style=\"text-align: right;\">\n",
              "      <th></th>\n",
              "      <th>state</th>\n",
              "      <th>startdate</th>\n",
              "      <th>enddate</th>\n",
              "      <th>pollster</th>\n",
              "      <th>grade</th>\n",
              "      <th>samplesize</th>\n",
              "      <th>rawpoll_clinton</th>\n",
              "      <th>rawpoll_trump</th>\n",
              "      <th>rawpoll_johnson</th>\n",
              "      <th>rawpoll_mcmullin</th>\n",
              "      <th>adjpoll_clinton</th>\n",
              "      <th>adjpoll_trump</th>\n",
              "      <th>adjpoll_johnson</th>\n",
              "      <th>adjpoll_mcmullin</th>\n",
              "      <th>pop_type__a</th>\n",
              "      <th>pop_type__lv</th>\n",
              "      <th>pop_type__rv</th>\n",
              "      <th>pop_type__v</th>\n",
              "    </tr>\n",
              "  </thead>\n",
              "  <tbody>\n",
              "  </tbody>\n",
              "</table>\n",
              "</div>\n",
              "      <button class=\"colab-df-convert\" onclick=\"convertToInteractive('df-198e1258-14c5-479e-9451-7876f461d75f')\"\n",
              "              title=\"Convert this dataframe to an interactive table.\"\n",
              "              style=\"display:none;\">\n",
              "        \n",
              "  <svg xmlns=\"http://www.w3.org/2000/svg\" height=\"24px\"viewBox=\"0 0 24 24\"\n",
              "       width=\"24px\">\n",
              "    <path d=\"M0 0h24v24H0V0z\" fill=\"none\"/>\n",
              "    <path d=\"M18.56 5.44l.94 2.06.94-2.06 2.06-.94-2.06-.94-.94-2.06-.94 2.06-2.06.94zm-11 1L8.5 8.5l.94-2.06 2.06-.94-2.06-.94L8.5 2.5l-.94 2.06-2.06.94zm10 10l.94 2.06.94-2.06 2.06-.94-2.06-.94-.94-2.06-.94 2.06-2.06.94z\"/><path d=\"M17.41 7.96l-1.37-1.37c-.4-.4-.92-.59-1.43-.59-.52 0-1.04.2-1.43.59L10.3 9.45l-7.72 7.72c-.78.78-.78 2.05 0 2.83L4 21.41c.39.39.9.59 1.41.59.51 0 1.02-.2 1.41-.59l7.78-7.78 2.81-2.81c.8-.78.8-2.07 0-2.86zM5.41 20L4 18.59l7.72-7.72 1.47 1.35L5.41 20z\"/>\n",
              "  </svg>\n",
              "      </button>\n",
              "      \n",
              "  <style>\n",
              "    .colab-df-container {\n",
              "      display:flex;\n",
              "      flex-wrap:wrap;\n",
              "      gap: 12px;\n",
              "    }\n",
              "\n",
              "    .colab-df-convert {\n",
              "      background-color: #E8F0FE;\n",
              "      border: none;\n",
              "      border-radius: 50%;\n",
              "      cursor: pointer;\n",
              "      display: none;\n",
              "      fill: #1967D2;\n",
              "      height: 32px;\n",
              "      padding: 0 0 0 0;\n",
              "      width: 32px;\n",
              "    }\n",
              "\n",
              "    .colab-df-convert:hover {\n",
              "      background-color: #E2EBFA;\n",
              "      box-shadow: 0px 1px 2px rgba(60, 64, 67, 0.3), 0px 1px 3px 1px rgba(60, 64, 67, 0.15);\n",
              "      fill: #174EA6;\n",
              "    }\n",
              "\n",
              "    [theme=dark] .colab-df-convert {\n",
              "      background-color: #3B4455;\n",
              "      fill: #D2E3FC;\n",
              "    }\n",
              "\n",
              "    [theme=dark] .colab-df-convert:hover {\n",
              "      background-color: #434B5C;\n",
              "      box-shadow: 0px 1px 3px 1px rgba(0, 0, 0, 0.15);\n",
              "      filter: drop-shadow(0px 1px 2px rgba(0, 0, 0, 0.3));\n",
              "      fill: #FFFFFF;\n",
              "    }\n",
              "  </style>\n",
              "\n",
              "      <script>\n",
              "        const buttonEl =\n",
              "          document.querySelector('#df-198e1258-14c5-479e-9451-7876f461d75f button.colab-df-convert');\n",
              "        buttonEl.style.display =\n",
              "          google.colab.kernel.accessAllowed ? 'block' : 'none';\n",
              "\n",
              "        async function convertToInteractive(key) {\n",
              "          const element = document.querySelector('#df-198e1258-14c5-479e-9451-7876f461d75f');\n",
              "          const dataTable =\n",
              "            await google.colab.kernel.invokeFunction('convertToInteractive',\n",
              "                                                     [key], {});\n",
              "          if (!dataTable) return;\n",
              "\n",
              "          const docLinkHtml = 'Like what you see? Visit the ' +\n",
              "            '<a target=\"_blank\" href=https://colab.research.google.com/notebooks/data_table.ipynb>data table notebook</a>'\n",
              "            + ' to learn more about interactive tables.';\n",
              "          element.innerHTML = '';\n",
              "          dataTable['output_type'] = 'display_data';\n",
              "          await google.colab.output.renderOutput(dataTable, element);\n",
              "          const docLink = document.createElement('div');\n",
              "          docLink.innerHTML = docLinkHtml;\n",
              "          element.appendChild(docLink);\n",
              "        }\n",
              "      </script>\n",
              "    </div>\n",
              "  </div>\n",
              "  "
            ]
          },
          "metadata": {},
          "execution_count": 49
        }
      ]
    },
    {
      "cell_type": "code",
      "source": [
        "a = df_clean.loc[df_clean['state'] == \"Illinois\"][\"samplesize\"].mode()[1]\n",
        "df_clean['samplesize'] = np.where(df_clean['samplesize'].isna(), a, df_clean['samplesize'])"
      ],
      "metadata": {
        "id": "B6ulcUTkR8z9"
      },
      "execution_count": 48,
      "outputs": []
    },
    {
      "cell_type": "code",
      "source": [
        "a = np.mean(df_clean[\"rawpoll_johnson\"])\n",
        "df_clean['rawpoll_johnson'] = np.where(df_clean['rawpoll_johnson'].isna(), a, df_clean['rawpoll_johnson'])\n",
        "a = np.mean(df_clean[\"adjpoll_johnson\"])\n",
        "df_clean['adjpoll_johnson'] = np.where(df_clean['adjpoll_johnson'].isna(), a, df_clean['adjpoll_johnson'])"
      ],
      "metadata": {
        "id": "f32yu5QVYvSX"
      },
      "execution_count": 63,
      "outputs": []
    },
    {
      "cell_type": "code",
      "source": [
        "np.mean(df_clean[\"rawpoll_johnson\"])"
      ],
      "metadata": {
        "colab": {
          "base_uri": "https://localhost:8080/"
        },
        "id": "H1ayhMUBZafV",
        "outputId": "306bb11c-ab02-4d2b-b4a5-9ffd2e555cbf"
      },
      "execution_count": 62,
      "outputs": [
        {
          "output_type": "execute_result",
          "data": {
            "text/plain": [
              "7.381739907109681"
            ]
          },
          "metadata": {},
          "execution_count": 62
        }
      ]
    },
    {
      "cell_type": "code",
      "source": [
        "df_clean['rawpoll_mcmullin'] = np.where(df_clean['rawpoll_mcmullin'].isna(), 0, df_clean['rawpoll_mcmullin'])\n",
        "df_clean['adjpoll_mcmullin'] = np.where(df_clean['adjpoll_mcmullin'].isna(), 0, df_clean['adjpoll_mcmullin'])"
      ],
      "metadata": {
        "id": "MTuccHAPYN-v"
      },
      "execution_count": 51,
      "outputs": []
    },
    {
      "cell_type": "markdown",
      "source": [
        "---------------------------------------------------"
      ],
      "metadata": {
        "id": "ajbNZXwKQ1dP"
      }
    },
    {
      "cell_type": "code",
      "source": [
        "df_clean.isna().sum()"
      ],
      "metadata": {
        "colab": {
          "base_uri": "https://localhost:8080/"
        },
        "id": "x6bPywW0YaUX",
        "outputId": "56c405c0-28be-4270-db6a-c0b9d083cf27"
      },
      "execution_count": 64,
      "outputs": [
        {
          "output_type": "execute_result",
          "data": {
            "text/plain": [
              "state               0\n",
              "startdate           0\n",
              "enddate             0\n",
              "pollster            0\n",
              "grade               0\n",
              "samplesize          0\n",
              "rawpoll_clinton     0\n",
              "rawpoll_trump       0\n",
              "rawpoll_johnson     0\n",
              "rawpoll_mcmullin    0\n",
              "adjpoll_clinton     0\n",
              "adjpoll_trump       0\n",
              "adjpoll_johnson     0\n",
              "adjpoll_mcmullin    0\n",
              "pop_type__a         0\n",
              "pop_type__lv        0\n",
              "pop_type__rv        0\n",
              "pop_type__v         0\n",
              "dtype: int64"
            ]
          },
          "metadata": {},
          "execution_count": 64
        }
      ]
    },
    {
      "cell_type": "code",
      "source": [
        "from google.colab import files\n",
        "df_clean.to_csv('polls_us_election_2016_clean.csv', encoding = 'utf-8-sig') \n",
        "files.download('polls_us_election_2016_clean.csv')"
      ],
      "metadata": {
        "colab": {
          "base_uri": "https://localhost:8080/",
          "height": 17
        },
        "id": "S9OaScN0aGa_",
        "outputId": "316b7aa6-b988-49c0-fcff-dd55d02a0caf"
      },
      "execution_count": 65,
      "outputs": [
        {
          "output_type": "display_data",
          "data": {
            "text/plain": [
              "<IPython.core.display.Javascript object>"
            ],
            "application/javascript": [
              "\n",
              "    async function download(id, filename, size) {\n",
              "      if (!google.colab.kernel.accessAllowed) {\n",
              "        return;\n",
              "      }\n",
              "      const div = document.createElement('div');\n",
              "      const label = document.createElement('label');\n",
              "      label.textContent = `Downloading \"${filename}\": `;\n",
              "      div.appendChild(label);\n",
              "      const progress = document.createElement('progress');\n",
              "      progress.max = size;\n",
              "      div.appendChild(progress);\n",
              "      document.body.appendChild(div);\n",
              "\n",
              "      const buffers = [];\n",
              "      let downloaded = 0;\n",
              "\n",
              "      const channel = await google.colab.kernel.comms.open(id);\n",
              "      // Send a message to notify the kernel that we're ready.\n",
              "      channel.send({})\n",
              "\n",
              "      for await (const message of channel.messages) {\n",
              "        // Send a message to notify the kernel that we're ready.\n",
              "        channel.send({})\n",
              "        if (message.buffers) {\n",
              "          for (const buffer of message.buffers) {\n",
              "            buffers.push(buffer);\n",
              "            downloaded += buffer.byteLength;\n",
              "            progress.value = downloaded;\n",
              "          }\n",
              "        }\n",
              "      }\n",
              "      const blob = new Blob(buffers, {type: 'application/binary'});\n",
              "      const a = document.createElement('a');\n",
              "      a.href = window.URL.createObjectURL(blob);\n",
              "      a.download = filename;\n",
              "      div.appendChild(a);\n",
              "      a.click();\n",
              "      div.remove();\n",
              "    }\n",
              "  "
            ]
          },
          "metadata": {}
        },
        {
          "output_type": "display_data",
          "data": {
            "text/plain": [
              "<IPython.core.display.Javascript object>"
            ],
            "application/javascript": [
              "download(\"download_faf27090-4f9e-4aa2-9716-cd1f0a400f51\", \"polls_us_election_2016_clean.csv\", 602469)"
            ]
          },
          "metadata": {}
        }
      ]
    }
  ]
}